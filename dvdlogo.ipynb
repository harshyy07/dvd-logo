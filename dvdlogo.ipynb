{
 "cells": [
  {
   "cell_type": "code",
   "execution_count": 1,
   "id": "1f168b3b-2afb-4e24-aa9f-40210fa22195",
   "metadata": {},
   "outputs": [
    {
     "name": "stdout",
     "output_type": "stream",
     "text": [
      "Collecting pygame\n",
      "  Downloading pygame-2.6.1-cp312-cp312-win_amd64.whl.metadata (13 kB)\n",
      "Downloading pygame-2.6.1-cp312-cp312-win_amd64.whl (10.6 MB)\n",
      "   ---------------------------------------- 0.0/10.6 MB ? eta -:--:--\n",
      "   -- ------------------------------------- 0.8/10.6 MB 3.7 MB/s eta 0:00:03\n",
      "   ------- -------------------------------- 2.1/10.6 MB 5.6 MB/s eta 0:00:02\n",
      "   ----------- ---------------------------- 3.1/10.6 MB 5.1 MB/s eta 0:00:02\n",
      "   -------------- ------------------------- 3.9/10.6 MB 4.8 MB/s eta 0:00:02\n",
      "   ----------------- ---------------------- 4.7/10.6 MB 4.8 MB/s eta 0:00:02\n",
      "   -------------------- ------------------- 5.5/10.6 MB 4.5 MB/s eta 0:00:02\n",
      "   ------------------------ --------------- 6.6/10.6 MB 4.5 MB/s eta 0:00:01\n",
      "   --------------------------- ------------ 7.3/10.6 MB 4.4 MB/s eta 0:00:01\n",
      "   ------------------------------ --------- 8.1/10.6 MB 4.4 MB/s eta 0:00:01\n",
      "   ----------------------------------- ---- 9.4/10.6 MB 4.5 MB/s eta 0:00:01\n",
      "   ---------------------------------------  10.5/10.6 MB 4.5 MB/s eta 0:00:01\n",
      "   ---------------------------------------- 10.6/10.6 MB 4.5 MB/s eta 0:00:00\n",
      "Installing collected packages: pygame\n",
      "Successfully installed pygame-2.6.1\n",
      "Note: you may need to restart the kernel to use updated packages.\n"
     ]
    }
   ],
   "source": [
    "pip install pygame"
   ]
  },
  {
   "cell_type": "code",
   "execution_count": 7,
   "id": "cfc1a625-7874-4b18-8b16-1fbf3e8f8d6d",
   "metadata": {},
   "outputs": [
    {
     "ename": "SystemExit",
     "evalue": "",
     "output_type": "error",
     "traceback": [
      "An exception has occurred, use %tb to see the full traceback.\n",
      "\u001b[1;31mSystemExit\u001b[0m\n"
     ]
    }
   ],
   "source": [
    "import pygame\n",
    "import sys\n",
    "import random\n",
    "\n",
    "# Initialize Pygame\n",
    "pygame.init()\n",
    "\n",
    "# Set up display\n",
    "WIDTH, HEIGHT = 640, 480\n",
    "win = pygame.display.set_mode((WIDTH, HEIGHT))\n",
    "pygame.display.set_caption(\"DVD Logo Bounce\")\n",
    "\n",
    "# Font and DVD text\n",
    "font = pygame.font.SysFont('Arial', 48, bold=True)\n",
    "dvd_text = font.render('DVD', True, (255, 255, 255))\n",
    "text_rect = dvd_text.get_rect()\n",
    "x, y = WIDTH // 2, HEIGHT // 2\n",
    "speed_x, speed_y = 3, 2\n",
    "\n",
    "def random_color():\n",
    "    return (random.randint(30, 225), random.randint(30, 225), random.randint(30, 225))\n",
    "\n",
    "backdrop_color = random_color()\n",
    "clock = pygame.time.Clock()\n",
    "\n",
    "running = True\n",
    "while running:\n",
    "    for event in pygame.event.get():\n",
    "        if event.type == pygame.QUIT:\n",
    "            running = False\n",
    "\n",
    "    x += speed_x\n",
    "    y += speed_y\n",
    "\n",
    "    # Bounce and change color on hitting edges\n",
    "    bounced = False\n",
    "    if x < 0 or x + text_rect.width > WIDTH:\n",
    "        speed_x = -speed_x\n",
    "        bounced = True\n",
    "    if y < 0 or y + text_rect.height > HEIGHT:\n",
    "        speed_y = -speed_y\n",
    "        bounced = True\n",
    "    if bounced:\n",
    "        backdrop_color = random_color()\n",
    "\n",
    "    win.fill(backdrop_color)\n",
    "    win.blit(dvd_text, (x, y))\n",
    "    pygame.display.flip()\n",
    "    clock.tick(60)\n",
    "\n",
    "pygame.quit()\n",
    "sys.exit()\n"
   ]
  },
  {
   "cell_type": "code",
   "execution_count": null,
   "id": "6bacd86b-1bcd-4b42-8bf6-06ba6122dfdf",
   "metadata": {},
   "outputs": [],
   "source": []
  },
  {
   "cell_type": "code",
   "execution_count": null,
   "id": "6392af23-ccc0-4fbc-a802-fe2a6542a6eb",
   "metadata": {},
   "outputs": [],
   "source": []
  }
 ],
 "metadata": {
  "kernelspec": {
   "display_name": "Python 3 (ipykernel)",
   "language": "python",
   "name": "python3"
  },
  "language_info": {
   "codemirror_mode": {
    "name": "ipython",
    "version": 3
   },
   "file_extension": ".py",
   "mimetype": "text/x-python",
   "name": "python",
   "nbconvert_exporter": "python",
   "pygments_lexer": "ipython3",
   "version": "3.12.7"
  }
 },
 "nbformat": 4,
 "nbformat_minor": 5
}
